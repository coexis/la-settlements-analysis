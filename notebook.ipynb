{
 "cells": [
  {
   "cell_type": "markdown",
   "metadata": {},
   "source": [
    "# Los Angeles city settlements analysis\n",
    "\n",
    "By [Ben Welsh](http://palewi.re/who-is-ben-welsh/)\n",
    "\n",
    "This analysis of legal payouts by Los Angeles city government was conducted for the June 25, 2018, _Los Angeles Times_ story [\"L.A. is slammed with record costs for legal payouts.\"](http://www.latimes.com/local/lanow/la-me-ln-city-payouts-20180627-story.html)\n",
    "\n",
    "The Times analyzed a city database listing more than 18,000 payouts dating back to July 2005, obtained through a public records request.\n",
    "\n",
    "Last budget year, the city paid out more than $200 million in legal settlements and court judgments — a record amount that was more than the city spent on its libraries or fixing its streets. The annual total is expected to drop sharply in the budget year that ends Saturday, but remains much higher than just a few years ago.\n",
    "\n",
    "Thousands of legal battles involving the Los Angeles Police Department, including a rash of recent settlements over police shootings and wrongful imprisonment, have added up to more than 40% of the total — a higher sum than any other city department. Lawsuits tied to the city departments that oversee its streets and sidewalks, including the Bureau of Street Services and the Department of Transportation, accounted for a growing share. Legal payouts for “dangerous conditions” have rivaled and, last budget year, even exceeded the cost of lawsuits over police misconduct. \n",
    "\n",
    "Mayor Eric Garcetti and City Attorney Mike Feuer stressed that the surge is tied to a few cases with extraordinarily large payouts. Beyond the mammoth cases, a pileup of other large payouts has padded the tab. While the total number of payouts has dipped over time, the average amount has increased. Last budget year, the city paid out 30 settlements of $1 million or more — five times as many as a decade before.\n",
    "\n",
    "The data and computer code that generated those conclusions is below. For more context and reporting on the topic, [read full story at latimes.com](http://www.latimes.com/local/lanow/la-me-ln-city-payouts-20180627-story.html)."
   ]
  },
  {
   "cell_type": "markdown",
   "metadata": {},
   "source": [
    "## Configuration"
   ]
  },
  {
   "cell_type": "markdown",
   "metadata": {},
   "source": [
    "Import Python tools"
   ]
  },
  {
   "cell_type": "code",
   "execution_count": 1,
   "metadata": {},
   "outputs": [],
   "source": [
    "import os\n",
    "import cpi\n",
    "import pandas as pd\n",
    "import altair as alt"
   ]
  },
  {
   "cell_type": "markdown",
   "metadata": {},
   "source": [
    "Configure pandas"
   ]
  },
  {
   "cell_type": "code",
   "execution_count": 2,
   "metadata": {},
   "outputs": [],
   "source": [
    "pd.options.display.float_format = '{:,.2f}'.format"
   ]
  },
  {
   "cell_type": "markdown",
   "metadata": {},
   "source": [
    "Set input and ouput directories"
   ]
  },
  {
   "cell_type": "code",
   "execution_count": 3,
   "metadata": {},
   "outputs": [],
   "source": [
    "input_dir = os.path.join(os.getcwd(), \"input\")\n",
    "output_dir = os.path.join(os.getcwd(), \"output\")"
   ]
  },
  {
   "cell_type": "markdown",
   "metadata": {},
   "source": [
    "## Preparation"
   ]
  },
  {
   "cell_type": "markdown",
   "metadata": {},
   "source": [
    "### Read in the raw data"
   ]
  },
  {
   "cell_type": "markdown",
   "metadata": {},
   "source": [
    "A list of all legal payouts made by Los Angeles city government was obtained from the office of City Attorney Mike Feuer via a request under the California Public Records Act. The data covering the most recent fiscal year is incomplete. Its totals were gathered elsewhere by interviewing city officials."
   ]
  },
  {
   "cell_type": "code",
   "execution_count": 4,
   "metadata": {},
   "outputs": [],
   "source": [
    "raw_df = pd.read_excel(\n",
    "    os.path.join(input_dir, \"payouts.xlsx\"),\n",
    "    skiprows=1,\n",
    "    skipfooter=2,\n",
    "    dtype={\"FISCAL YEAR\": int}\n",
    ")"
   ]
  },
  {
   "cell_type": "markdown",
   "metadata": {},
   "source": [
    "### Clean it up"
   ]
  },
  {
   "cell_type": "markdown",
   "metadata": {},
   "source": [
    "Rename the columns using our crosswalk, developed after interviewing staff at the City Attorney's office on how to properly interpet the fields."
   ]
  },
  {
   "cell_type": "code",
   "execution_count": 5,
   "metadata": {},
   "outputs": [],
   "source": [
    "columns = {\n",
    "    \"FISCAL YEAR\": \"fiscal_year\",\n",
    "    \"CASE NAME\": \"name\",\n",
    "    \"CLAIM # / CASE #\": \"number\",\n",
    "    \"AMOUNT\": \"amount\",\n",
    "    \"DEPARTMENT\": \"department\", \n",
    "    \"CASE TYPE\": \"type\"\n",
    "}"
   ]
  },
  {
   "cell_type": "code",
   "execution_count": 6,
   "metadata": {},
   "outputs": [],
   "source": [
    "df = raw_df.rename(columns=columns)"
   ]
  },
  {
   "cell_type": "markdown",
   "metadata": {},
   "source": [
    "Strip whitespace"
   ]
  },
  {
   "cell_type": "code",
   "execution_count": 7,
   "metadata": {},
   "outputs": [],
   "source": [
    "df['name'] = df.name.str.strip()\n",
    "df['number'] = df.number.str.strip()\n",
    "df['department'] = df.department.str.strip().str.upper()\n",
    "df['type'] = df.type.str.strip()"
   ]
  },
  {
   "cell_type": "markdown",
   "metadata": {},
   "source": [
    "Standardize the many variations in the `type` field using a custom crosswalk. Our classifications were submitted to officials at the City Attorney's office for review. They offered no corrections or comment."
   ]
  },
  {
   "cell_type": "code",
   "execution_count": 8,
   "metadata": {},
   "outputs": [],
   "source": [
    "case_types = pd.read_csv(os.path.join(input_dir, \"casetypes.csv\"))"
   ]
  },
  {
   "cell_type": "code",
   "execution_count": 9,
   "metadata": {},
   "outputs": [],
   "source": [
    "df = df.merge(case_types, on=\"type\", how=\"inner\")"
   ]
  },
  {
   "cell_type": "markdown",
   "metadata": {},
   "source": [
    "Standardize the variations on the city department names."
   ]
  },
  {
   "cell_type": "code",
   "execution_count": 10,
   "metadata": {},
   "outputs": [],
   "source": [
    "departments = pd.read_csv(os.path.join(input_dir, \"departments.csv\"))"
   ]
  },
  {
   "cell_type": "code",
   "execution_count": 11,
   "metadata": {},
   "outputs": [],
   "source": [
    "df = df.merge(departments, on=\"department\", how=\"inner\")"
   ]
  },
  {
   "cell_type": "markdown",
   "metadata": {},
   "source": [
    "Verify the row count is unchanged after the joining the crosswalks"
   ]
  },
  {
   "cell_type": "code",
   "execution_count": 12,
   "metadata": {},
   "outputs": [],
   "source": [
    "assert len(raw_df) == len(df)"
   ]
  },
  {
   "cell_type": "markdown",
   "metadata": {},
   "source": [
    "## Analysis"
   ]
  },
  {
   "cell_type": "markdown",
   "metadata": {},
   "source": [
    "### What is the total number of payouts?"
   ]
  },
  {
   "cell_type": "code",
   "execution_count": 13,
   "metadata": {},
   "outputs": [
    {
     "data": {
      "text/plain": [
       "18701"
      ]
     },
     "execution_count": 13,
     "metadata": {},
     "output_type": "execute_result"
    }
   ],
   "source": [
    "len(df)"
   ]
  },
  {
   "cell_type": "markdown",
   "metadata": {},
   "source": [
    "### In total, how much money has been paid out?"
   ]
  },
  {
   "cell_type": "code",
   "execution_count": 14,
   "metadata": {},
   "outputs": [
    {
     "data": {
      "text/plain": [
       "'$880,687,820'"
      ]
     },
     "execution_count": 14,
     "metadata": {},
     "output_type": "execute_result"
    }
   ],
   "source": [
    "\"${:,.0f}\".format(df.amount.sum())"
   ]
  },
  {
   "cell_type": "markdown",
   "metadata": {},
   "source": [
    "### What are the other descriptive statistics?"
   ]
  },
  {
   "cell_type": "code",
   "execution_count": 15,
   "metadata": {},
   "outputs": [
    {
     "data": {
      "text/html": [
       "<div>\n",
       "<style scoped>\n",
       "    .dataframe tbody tr th:only-of-type {\n",
       "        vertical-align: middle;\n",
       "    }\n",
       "\n",
       "    .dataframe tbody tr th {\n",
       "        vertical-align: top;\n",
       "    }\n",
       "\n",
       "    .dataframe thead th {\n",
       "        text-align: right;\n",
       "    }\n",
       "</style>\n",
       "<table border=\"1\" class=\"dataframe\">\n",
       "  <thead>\n",
       "    <tr style=\"text-align: right;\">\n",
       "      <th></th>\n",
       "      <th>index</th>\n",
       "      <th>amount</th>\n",
       "    </tr>\n",
       "  </thead>\n",
       "  <tbody>\n",
       "    <tr>\n",
       "      <th>0</th>\n",
       "      <td>count</td>\n",
       "      <td>18,701.00</td>\n",
       "    </tr>\n",
       "    <tr>\n",
       "      <th>1</th>\n",
       "      <td>mean</td>\n",
       "      <td>47,093.09</td>\n",
       "    </tr>\n",
       "    <tr>\n",
       "      <th>2</th>\n",
       "      <td>std</td>\n",
       "      <td>556,335.14</td>\n",
       "    </tr>\n",
       "    <tr>\n",
       "      <th>3</th>\n",
       "      <td>min</td>\n",
       "      <td>-1,500,000.00</td>\n",
       "    </tr>\n",
       "    <tr>\n",
       "      <th>4</th>\n",
       "      <td>25%</td>\n",
       "      <td>600.00</td>\n",
       "    </tr>\n",
       "    <tr>\n",
       "      <th>5</th>\n",
       "      <td>50%</td>\n",
       "      <td>1,917.00</td>\n",
       "    </tr>\n",
       "    <tr>\n",
       "      <th>6</th>\n",
       "      <td>75%</td>\n",
       "      <td>6,300.00</td>\n",
       "    </tr>\n",
       "    <tr>\n",
       "      <th>7</th>\n",
       "      <td>max</td>\n",
       "      <td>45,789,960.62</td>\n",
       "    </tr>\n",
       "  </tbody>\n",
       "</table>\n",
       "</div>"
      ],
      "text/plain": [
       "   index        amount\n",
       "0  count     18,701.00\n",
       "1   mean     47,093.09\n",
       "2    std    556,335.14\n",
       "3    min -1,500,000.00\n",
       "4    25%        600.00\n",
       "5    50%      1,917.00\n",
       "6    75%      6,300.00\n",
       "7    max 45,789,960.62"
      ]
     },
     "execution_count": 15,
     "metadata": {},
     "output_type": "execute_result"
    }
   ],
   "source": [
    "df.amount.describe().reset_index()"
   ]
  },
  {
   "cell_type": "markdown",
   "metadata": {},
   "source": [
    "### How many payouts have been made each year?"
   ]
  },
  {
   "cell_type": "code",
   "execution_count": 16,
   "metadata": {},
   "outputs": [],
   "source": [
    "annual_totals = df.groupby(\"fiscal_year\").agg(dict(\n",
    "    amount=\"sum\",\n",
    "    number=\"count\"\n",
    ")).reset_index().set_index(\"fiscal_year\")"
   ]
  },
  {
   "cell_type": "code",
   "execution_count": 17,
   "metadata": {},
   "outputs": [],
   "source": [
    "annual_totals['average'] = annual_totals.apply(lambda x: x['amount'] / float(x['number']), axis=1)"
   ]
  },
  {
   "cell_type": "code",
   "execution_count": 18,
   "metadata": {},
   "outputs": [
    {
     "data": {
      "application/vnd.vegalite.v2+json": {
       "$schema": "https://vega.github.io/schema/vega-lite/v2.4.3.json",
       "config": {
        "view": {
         "height": 300,
         "width": 400
        }
       },
       "data": {
        "values": [
         {
          "amount": 37206924,
          "average": 25345.31607629428,
          "fiscal_year": 2006,
          "number": 1468
         },
         {
          "amount": 30593290,
          "average": 19724.880722114765,
          "fiscal_year": 2007,
          "number": 1551
         },
         {
          "amount": 36637836,
          "average": 22671.928217821784,
          "fiscal_year": 2008,
          "number": 1616
         },
         {
          "amount": 36750732,
          "average": 27841.463636363635,
          "fiscal_year": 2009,
          "number": 1320
         },
         {
          "amount": 90536467,
          "average": 60357.64466666667,
          "fiscal_year": 2010,
          "number": 1500
         },
         {
          "amount": 45016329,
          "average": 42268.85352112676,
          "fiscal_year": 2011,
          "number": 1065
         },
         {
          "amount": 48298045,
          "average": 37295.78764478765,
          "fiscal_year": 2012,
          "number": 1295
         },
         {
          "amount": 39897408.05,
          "average": 21519.63756742179,
          "fiscal_year": 2013,
          "number": 1854
         },
         {
          "amount": 58345556.09000001,
          "average": 33862.77196169472,
          "fiscal_year": 2014,
          "number": 1723
         },
         {
          "amount": 64096392.60999999,
          "average": 43075.53266801075,
          "fiscal_year": 2015,
          "number": 1488
         },
         {
          "amount": 119106906.88999996,
          "average": 94230.14785601263,
          "fiscal_year": 2016,
          "number": 1264
         },
         {
          "amount": 201372336.23000002,
          "average": 147094.4749671293,
          "fiscal_year": 2017,
          "number": 1369
         },
         {
          "amount": 72829596.81,
          "average": 82293.32972881357,
          "fiscal_year": 2018,
          "number": 885
         }
        ]
       },
       "encoding": {
        "x": {
         "axis": {
          "labelAngle": 0,
          "title": "Fiscal year"
         },
         "field": "fiscal_year",
         "type": "ordinal"
        },
        "y": {
         "axis": {
          "title": "Number of payouts"
         },
         "field": "number",
         "type": "quantitative"
        }
       },
       "mark": "bar",
       "title": "L.A. city payouts",
       "width": 600
      },
      "image/png": "[encoded data removed]",
      "text/plain": [
       "<VegaLite 2 object>\n",
       "\n",
       "If you see this message, it means the renderer has not been properly enabled\n",
       "for the frontend that you are using. For more information, see\n",
       "https://altair-viz.github.io/user_guide/troubleshooting.html\n"
      ]
     },
     "execution_count": 18,
     "metadata": {},
     "output_type": "execute_result"
    }
   ],
   "source": [
    "alt.Chart(annual_totals.reset_index(), title=\"L.A. city payouts\").mark_bar().encode(\n",
    "    x=alt.X(\"fiscal_year:O\", axis=alt.Axis(title=\"Fiscal year\", labelAngle=0)),\n",
    "    y=alt.Y(\"number:Q\", axis=alt.Axis(title=\"Number of payouts\")),\n",
    ").properties(width=600)"
   ]
  },
  {
   "cell_type": "code",
   "execution_count": 19,
   "metadata": {},
   "outputs": [
    {
     "data": {
      "text/html": [
       "<div>\n",
       "<style scoped>\n",
       "    .dataframe tbody tr th:only-of-type {\n",
       "        vertical-align: middle;\n",
       "    }\n",
       "\n",
       "    .dataframe tbody tr th {\n",
       "        vertical-align: top;\n",
       "    }\n",
       "\n",
       "    .dataframe thead th {\n",
       "        text-align: right;\n",
       "    }\n",
       "</style>\n",
       "<table border=\"1\" class=\"dataframe\">\n",
       "  <thead>\n",
       "    <tr style=\"text-align: right;\">\n",
       "      <th></th>\n",
       "      <th>index</th>\n",
       "      <th>number</th>\n",
       "    </tr>\n",
       "  </thead>\n",
       "  <tbody>\n",
       "    <tr>\n",
       "      <th>0</th>\n",
       "      <td>count</td>\n",
       "      <td>13.00</td>\n",
       "    </tr>\n",
       "    <tr>\n",
       "      <th>1</th>\n",
       "      <td>mean</td>\n",
       "      <td>1,415.23</td>\n",
       "    </tr>\n",
       "    <tr>\n",
       "      <th>2</th>\n",
       "      <td>std</td>\n",
       "      <td>260.38</td>\n",
       "    </tr>\n",
       "    <tr>\n",
       "      <th>3</th>\n",
       "      <td>min</td>\n",
       "      <td>885.00</td>\n",
       "    </tr>\n",
       "    <tr>\n",
       "      <th>4</th>\n",
       "      <td>25%</td>\n",
       "      <td>1,295.00</td>\n",
       "    </tr>\n",
       "    <tr>\n",
       "      <th>5</th>\n",
       "      <td>50%</td>\n",
       "      <td>1,468.00</td>\n",
       "    </tr>\n",
       "    <tr>\n",
       "      <th>6</th>\n",
       "      <td>75%</td>\n",
       "      <td>1,551.00</td>\n",
       "    </tr>\n",
       "    <tr>\n",
       "      <th>7</th>\n",
       "      <td>max</td>\n",
       "      <td>1,854.00</td>\n",
       "    </tr>\n",
       "  </tbody>\n",
       "</table>\n",
       "</div>"
      ],
      "text/plain": [
       "   index   number\n",
       "0  count    13.00\n",
       "1   mean 1,415.23\n",
       "2    std   260.38\n",
       "3    min   885.00\n",
       "4    25% 1,295.00\n",
       "5    50% 1,468.00\n",
       "6    75% 1,551.00\n",
       "7    max 1,854.00"
      ]
     },
     "execution_count": 19,
     "metadata": {},
     "output_type": "execute_result"
    }
   ],
   "source": [
    "annual_totals.number.describe().reset_index()"
   ]
  },
  {
   "cell_type": "code",
   "execution_count": 20,
   "metadata": {},
   "outputs": [
    {
     "data": {
      "text/html": [
       "<div>\n",
       "<style scoped>\n",
       "    .dataframe tbody tr th:only-of-type {\n",
       "        vertical-align: middle;\n",
       "    }\n",
       "\n",
       "    .dataframe tbody tr th {\n",
       "        vertical-align: top;\n",
       "    }\n",
       "\n",
       "    .dataframe thead th {\n",
       "        text-align: right;\n",
       "    }\n",
       "</style>\n",
       "<table border=\"1\" class=\"dataframe\">\n",
       "  <thead>\n",
       "    <tr style=\"text-align: right;\">\n",
       "      <th></th>\n",
       "      <th>number</th>\n",
       "    </tr>\n",
       "    <tr>\n",
       "      <th>fiscal_year</th>\n",
       "      <th></th>\n",
       "    </tr>\n",
       "  </thead>\n",
       "  <tbody>\n",
       "    <tr>\n",
       "      <th>2006</th>\n",
       "      <td>1468</td>\n",
       "    </tr>\n",
       "    <tr>\n",
       "      <th>2007</th>\n",
       "      <td>1551</td>\n",
       "    </tr>\n",
       "    <tr>\n",
       "      <th>2008</th>\n",
       "      <td>1616</td>\n",
       "    </tr>\n",
       "    <tr>\n",
       "      <th>2009</th>\n",
       "      <td>1320</td>\n",
       "    </tr>\n",
       "    <tr>\n",
       "      <th>2010</th>\n",
       "      <td>1500</td>\n",
       "    </tr>\n",
       "    <tr>\n",
       "      <th>2011</th>\n",
       "      <td>1065</td>\n",
       "    </tr>\n",
       "    <tr>\n",
       "      <th>2012</th>\n",
       "      <td>1295</td>\n",
       "    </tr>\n",
       "    <tr>\n",
       "      <th>2013</th>\n",
       "      <td>1854</td>\n",
       "    </tr>\n",
       "    <tr>\n",
       "      <th>2014</th>\n",
       "      <td>1723</td>\n",
       "    </tr>\n",
       "    <tr>\n",
       "      <th>2015</th>\n",
       "      <td>1488</td>\n",
       "    </tr>\n",
       "    <tr>\n",
       "      <th>2016</th>\n",
       "      <td>1264</td>\n",
       "    </tr>\n",
       "    <tr>\n",
       "      <th>2017</th>\n",
       "      <td>1369</td>\n",
       "    </tr>\n",
       "    <tr>\n",
       "      <th>2018</th>\n",
       "      <td>885</td>\n",
       "    </tr>\n",
       "  </tbody>\n",
       "</table>\n",
       "</div>"
      ],
      "text/plain": [
       "             number\n",
       "fiscal_year        \n",
       "2006           1468\n",
       "2007           1551\n",
       "2008           1616\n",
       "2009           1320\n",
       "2010           1500\n",
       "2011           1065\n",
       "2012           1295\n",
       "2013           1854\n",
       "2014           1723\n",
       "2015           1488\n",
       "2016           1264\n",
       "2017           1369\n",
       "2018            885"
      ]
     },
     "execution_count": 20,
     "metadata": {},
     "output_type": "execute_result"
    }
   ],
   "source": [
    "annual_totals[['number']]"
   ]
  },
  {
   "cell_type": "markdown",
   "metadata": {},
   "source": [
    "### What is the annual cost?"
   ]
  },
  {
   "cell_type": "code",
   "execution_count": 21,
   "metadata": {},
   "outputs": [
    {
     "data": {
      "application/vnd.vegalite.v2+json": {
       "$schema": "https://vega.github.io/schema/vega-lite/v2.4.3.json",
       "config": {
        "view": {
         "height": 300,
         "width": 400
        }
       },
       "data": {
        "values": [
         {
          "amount": 37206924,
          "average": 25345.31607629428,
          "fiscal_year": 2006,
          "number": 1468
         },
         {
          "amount": 30593290,
          "average": 19724.880722114765,
          "fiscal_year": 2007,
          "number": 1551
         },
         {
          "amount": 36637836,
          "average": 22671.928217821784,
          "fiscal_year": 2008,
          "number": 1616
         },
         {
          "amount": 36750732,
          "average": 27841.463636363635,
          "fiscal_year": 2009,
          "number": 1320
         },
         {
          "amount": 90536467,
          "average": 60357.64466666667,
          "fiscal_year": 2010,
          "number": 1500
         },
         {
          "amount": 45016329,
          "average": 42268.85352112676,
          "fiscal_year": 2011,
          "number": 1065
         },
         {
          "amount": 48298045,
          "average": 37295.78764478765,
          "fiscal_year": 2012,
          "number": 1295
         },
         {
          "amount": 39897408.05,
          "average": 21519.63756742179,
          "fiscal_year": 2013,
          "number": 1854
         },
         {
          "amount": 58345556.09000001,
          "average": 33862.77196169472,
          "fiscal_year": 2014,
          "number": 1723
         },
         {
          "amount": 64096392.60999999,
          "average": 43075.53266801075,
          "fiscal_year": 2015,
          "number": 1488
         },
         {
          "amount": 119106906.88999996,
          "average": 94230.14785601263,
          "fiscal_year": 2016,
          "number": 1264
         },
         {
          "amount": 201372336.23000002,
          "average": 147094.4749671293,
          "fiscal_year": 2017,
          "number": 1369
         },
         {
          "amount": 72829596.81,
          "average": 82293.32972881357,
          "fiscal_year": 2018,
          "number": 885
         }
        ]
       },
       "encoding": {
        "x": {
         "axis": {
          "labelAngle": 0,
          "title": "Fiscal year"
         },
         "field": "fiscal_year",
         "type": "ordinal"
        },
        "y": {
         "axis": {
          "format": "$s",
          "title": "Amount"
         },
         "field": "amount",
         "type": "quantitative"
        }
       },
       "mark": "bar",
       "title": "L.A. city payout sums",
       "width": 600
      },
      "image/png": "[encoded data removed]",
      "text/plain": [
       "<VegaLite 2 object>\n",
       "\n",
       "If you see this message, it means the renderer has not been properly enabled\n",
       "for the frontend that you are using. For more information, see\n",
       "https://altair-viz.github.io/user_guide/troubleshooting.html\n"
      ]
     },
     "execution_count": 21,
     "metadata": {},
     "output_type": "execute_result"
    }
   ],
   "source": [
    "alt.Chart(annual_totals.reset_index(), title=\"L.A. city payout sums\").mark_bar().encode(\n",
    "    x=alt.X(\"fiscal_year:O\", axis=alt.Axis(title=\"Fiscal year\", labelAngle=0)),\n",
    "    y=alt.Y(\"amount:Q\", axis=alt.Axis(title=\"Amount\", format=\"$s\")),\n",
    ").properties(width=600)"
   ]
  },
  {
   "cell_type": "code",
   "execution_count": 22,
   "metadata": {},
   "outputs": [
    {
     "data": {
      "text/html": [
       "<div>\n",
       "<style scoped>\n",
       "    .dataframe tbody tr th:only-of-type {\n",
       "        vertical-align: middle;\n",
       "    }\n",
       "\n",
       "    .dataframe tbody tr th {\n",
       "        vertical-align: top;\n",
       "    }\n",
       "\n",
       "    .dataframe thead th {\n",
       "        text-align: right;\n",
       "    }\n",
       "</style>\n",
       "<table border=\"1\" class=\"dataframe\">\n",
       "  <thead>\n",
       "    <tr style=\"text-align: right;\">\n",
       "      <th></th>\n",
       "      <th>index</th>\n",
       "      <th>amount</th>\n",
       "    </tr>\n",
       "  </thead>\n",
       "  <tbody>\n",
       "    <tr>\n",
       "      <th>0</th>\n",
       "      <td>count</td>\n",
       "      <td>13.00</td>\n",
       "    </tr>\n",
       "    <tr>\n",
       "      <th>1</th>\n",
       "      <td>mean</td>\n",
       "      <td>67,745,216.90</td>\n",
       "    </tr>\n",
       "    <tr>\n",
       "      <th>2</th>\n",
       "      <td>std</td>\n",
       "      <td>47,480,404.12</td>\n",
       "    </tr>\n",
       "    <tr>\n",
       "      <th>3</th>\n",
       "      <td>min</td>\n",
       "      <td>30,593,290.00</td>\n",
       "    </tr>\n",
       "    <tr>\n",
       "      <th>4</th>\n",
       "      <td>25%</td>\n",
       "      <td>37,206,924.00</td>\n",
       "    </tr>\n",
       "    <tr>\n",
       "      <th>5</th>\n",
       "      <td>50%</td>\n",
       "      <td>48,298,045.00</td>\n",
       "    </tr>\n",
       "    <tr>\n",
       "      <th>6</th>\n",
       "      <td>75%</td>\n",
       "      <td>72,829,596.81</td>\n",
       "    </tr>\n",
       "    <tr>\n",
       "      <th>7</th>\n",
       "      <td>max</td>\n",
       "      <td>201,372,336.23</td>\n",
       "    </tr>\n",
       "  </tbody>\n",
       "</table>\n",
       "</div>"
      ],
      "text/plain": [
       "   index         amount\n",
       "0  count          13.00\n",
       "1   mean  67,745,216.90\n",
       "2    std  47,480,404.12\n",
       "3    min  30,593,290.00\n",
       "4    25%  37,206,924.00\n",
       "5    50%  48,298,045.00\n",
       "6    75%  72,829,596.81\n",
       "7    max 201,372,336.23"
      ]
     },
     "execution_count": 22,
     "metadata": {},
     "output_type": "execute_result"
    }
   ],
   "source": [
    "annual_totals.amount.describe().reset_index()"
   ]
  },
  {
   "cell_type": "code",
   "execution_count": 23,
   "metadata": {},
   "outputs": [
    {
     "data": {
      "text/html": [
       "<div>\n",
       "<style scoped>\n",
       "    .dataframe tbody tr th:only-of-type {\n",
       "        vertical-align: middle;\n",
       "    }\n",
       "\n",
       "    .dataframe tbody tr th {\n",
       "        vertical-align: top;\n",
       "    }\n",
       "\n",
       "    .dataframe thead th {\n",
       "        text-align: right;\n",
       "    }\n",
       "</style>\n",
       "<table border=\"1\" class=\"dataframe\">\n",
       "  <thead>\n",
       "    <tr style=\"text-align: right;\">\n",
       "      <th></th>\n",
       "      <th>amount</th>\n",
       "    </tr>\n",
       "    <tr>\n",
       "      <th>fiscal_year</th>\n",
       "      <th></th>\n",
       "    </tr>\n",
       "  </thead>\n",
       "  <tbody>\n",
       "    <tr>\n",
       "      <th>2006</th>\n",
       "      <td>37,206,924.00</td>\n",
       "    </tr>\n",
       "    <tr>\n",
       "      <th>2007</th>\n",
       "      <td>30,593,290.00</td>\n",
       "    </tr>\n",
       "    <tr>\n",
       "      <th>2008</th>\n",
       "      <td>36,637,836.00</td>\n",
       "    </tr>\n",
       "    <tr>\n",
       "      <th>2009</th>\n",
       "      <td>36,750,732.00</td>\n",
       "    </tr>\n",
       "    <tr>\n",
       "      <th>2010</th>\n",
       "      <td>90,536,467.00</td>\n",
       "    </tr>\n",
       "    <tr>\n",
       "      <th>2011</th>\n",
       "      <td>45,016,329.00</td>\n",
       "    </tr>\n",
       "    <tr>\n",
       "      <th>2012</th>\n",
       "      <td>48,298,045.00</td>\n",
       "    </tr>\n",
       "    <tr>\n",
       "      <th>2013</th>\n",
       "      <td>39,897,408.05</td>\n",
       "    </tr>\n",
       "    <tr>\n",
       "      <th>2014</th>\n",
       "      <td>58,345,556.09</td>\n",
       "    </tr>\n",
       "    <tr>\n",
       "      <th>2015</th>\n",
       "      <td>64,096,392.61</td>\n",
       "    </tr>\n",
       "    <tr>\n",
       "      <th>2016</th>\n",
       "      <td>119,106,906.89</td>\n",
       "    </tr>\n",
       "    <tr>\n",
       "      <th>2017</th>\n",
       "      <td>201,372,336.23</td>\n",
       "    </tr>\n",
       "    <tr>\n",
       "      <th>2018</th>\n",
       "      <td>72,829,596.81</td>\n",
       "    </tr>\n",
       "  </tbody>\n",
       "</table>\n",
       "</div>"
      ],
      "text/plain": [
       "                    amount\n",
       "fiscal_year               \n",
       "2006         37,206,924.00\n",
       "2007         30,593,290.00\n",
       "2008         36,637,836.00\n",
       "2009         36,750,732.00\n",
       "2010         90,536,467.00\n",
       "2011         45,016,329.00\n",
       "2012         48,298,045.00\n",
       "2013         39,897,408.05\n",
       "2014         58,345,556.09\n",
       "2015         64,096,392.61\n",
       "2016        119,106,906.89\n",
       "2017        201,372,336.23\n",
       "2018         72,829,596.81"
      ]
     },
     "execution_count": 23,
     "metadata": {},
     "output_type": "execute_result"
    }
   ],
   "source": [
    "annual_totals[['amount']]"
   ]
  },
  {
   "cell_type": "markdown",
   "metadata": {},
   "source": [
    "### How has the average payout size changed?"
   ]
  },
  {
   "cell_type": "code",
   "execution_count": 24,
   "metadata": {},
   "outputs": [
    {
     "data": {
      "application/vnd.vegalite.v2+json": {
       "$schema": "https://vega.github.io/schema/vega-lite/v2.4.3.json",
       "config": {
        "view": {
         "height": 300,
         "width": 400
        }
       },
       "data": {
        "values": [
         {
          "amount": 37206924,
          "average": 25345.31607629428,
          "fiscal_year": 2006,
          "number": 1468
         },
         {
          "amount": 30593290,
          "average": 19724.880722114765,
          "fiscal_year": 2007,
          "number": 1551
         },
         {
          "amount": 36637836,
          "average": 22671.928217821784,
          "fiscal_year": 2008,
          "number": 1616
         },
         {
          "amount": 36750732,
          "average": 27841.463636363635,
          "fiscal_year": 2009,
          "number": 1320
         },
         {
          "amount": 90536467,
          "average": 60357.64466666667,
          "fiscal_year": 2010,
          "number": 1500
         },
         {
          "amount": 45016329,
          "average": 42268.85352112676,
          "fiscal_year": 2011,
          "number": 1065
         },
         {
          "amount": 48298045,
          "average": 37295.78764478765,
          "fiscal_year": 2012,
          "number": 1295
         },
         {
          "amount": 39897408.05,
          "average": 21519.63756742179,
          "fiscal_year": 2013,
          "number": 1854
         },
         {
          "amount": 58345556.09000001,
          "average": 33862.77196169472,
          "fiscal_year": 2014,
          "number": 1723
         },
         {
          "amount": 64096392.60999999,
          "average": 43075.53266801075,
          "fiscal_year": 2015,
          "number": 1488
         },
         {
          "amount": 119106906.88999996,
          "average": 94230.14785601263,
          "fiscal_year": 2016,
          "number": 1264
         },
         {
          "amount": 201372336.23000002,
          "average": 147094.4749671293,
          "fiscal_year": 2017,
          "number": 1369
         },
         {
          "amount": 72829596.81,
          "average": 82293.32972881357,
          "fiscal_year": 2018,
          "number": 885
         }
        ]
       },
       "encoding": {
        "x": {
         "axis": {
          "labelAngle": 0,
          "title": "Fiscal year"
         },
         "field": "fiscal_year",
         "type": "ordinal"
        },
        "y": {
         "axis": {
          "format": "$s",
          "title": "Average amount"
         },
         "field": "average",
         "type": "quantitative"
        }
       },
       "mark": "bar",
       "title": "L.A. city payout averages",
       "width": 600
      },
      "image/png": "[encoded data removed]",
      "text/plain": [
       "<VegaLite 2 object>\n",
       "\n",
       "If you see this message, it means the renderer has not been properly enabled\n",
       "for the frontend that you are using. For more information, see\n",
       "https://altair-viz.github.io/user_guide/troubleshooting.html\n"
      ]
     },
     "execution_count": 24,
     "metadata": {},
     "output_type": "execute_result"
    }
   ],
   "source": [
    "alt.Chart(annual_totals.reset_index(), title=\"L.A. city payout averages\").mark_bar().encode(\n",
    "    x=alt.X(\"fiscal_year:O\", axis=alt.Axis(title=\"Fiscal year\", labelAngle=0)),\n",
    "    y=alt.Y(\"average:Q\", axis=alt.Axis(title=\"Average amount\", format=\"$s\")),\n",
    ").properties(width=600)"
   ]
  },
  {
   "cell_type": "code",
   "execution_count": 25,
   "metadata": {},
   "outputs": [
    {
     "data": {
      "text/html": [
       "<div>\n",
       "<style scoped>\n",
       "    .dataframe tbody tr th:only-of-type {\n",
       "        vertical-align: middle;\n",
       "    }\n",
       "\n",
       "    .dataframe tbody tr th {\n",
       "        vertical-align: top;\n",
       "    }\n",
       "\n",
       "    .dataframe thead th {\n",
       "        text-align: right;\n",
       "    }\n",
       "</style>\n",
       "<table border=\"1\" class=\"dataframe\">\n",
       "  <thead>\n",
       "    <tr style=\"text-align: right;\">\n",
       "      <th></th>\n",
       "      <th>average</th>\n",
       "    </tr>\n",
       "    <tr>\n",
       "      <th>fiscal_year</th>\n",
       "      <th></th>\n",
       "    </tr>\n",
       "  </thead>\n",
       "  <tbody>\n",
       "    <tr>\n",
       "      <th>2006</th>\n",
       "      <td>25,345.32</td>\n",
       "    </tr>\n",
       "    <tr>\n",
       "      <th>2007</th>\n",
       "      <td>19,724.88</td>\n",
       "    </tr>\n",
       "    <tr>\n",
       "      <th>2008</th>\n",
       "      <td>22,671.93</td>\n",
       "    </tr>\n",
       "    <tr>\n",
       "      <th>2009</th>\n",
       "      <td>27,841.46</td>\n",
       "    </tr>\n",
       "    <tr>\n",
       "      <th>2010</th>\n",
       "      <td>60,357.64</td>\n",
       "    </tr>\n",
       "    <tr>\n",
       "      <th>2011</th>\n",
       "      <td>42,268.85</td>\n",
       "    </tr>\n",
       "    <tr>\n",
       "      <th>2012</th>\n",
       "      <td>37,295.79</td>\n",
       "    </tr>\n",
       "    <tr>\n",
       "      <th>2013</th>\n",
       "      <td>21,519.64</td>\n",
       "    </tr>\n",
       "    <tr>\n",
       "      <th>2014</th>\n",
       "      <td>33,862.77</td>\n",
       "    </tr>\n",
       "    <tr>\n",
       "      <th>2015</th>\n",
       "      <td>43,075.53</td>\n",
       "    </tr>\n",
       "    <tr>\n",
       "      <th>2016</th>\n",
       "      <td>94,230.15</td>\n",
       "    </tr>\n",
       "    <tr>\n",
       "      <th>2017</th>\n",
       "      <td>147,094.47</td>\n",
       "    </tr>\n",
       "    <tr>\n",
       "      <th>2018</th>\n",
       "      <td>82,293.33</td>\n",
       "    </tr>\n",
       "  </tbody>\n",
       "</table>\n",
       "</div>"
      ],
      "text/plain": [
       "               average\n",
       "fiscal_year           \n",
       "2006         25,345.32\n",
       "2007         19,724.88\n",
       "2008         22,671.93\n",
       "2009         27,841.46\n",
       "2010         60,357.64\n",
       "2011         42,268.85\n",
       "2012         37,295.79\n",
       "2013         21,519.64\n",
       "2014         33,862.77\n",
       "2015         43,075.53\n",
       "2016         94,230.15\n",
       "2017        147,094.47\n",
       "2018         82,293.33"
      ]
     },
     "execution_count": 25,
     "metadata": {},
     "output_type": "execute_result"
    }
   ],
   "source": [
    "annual_totals[['average']]"
   ]
  },
  {
   "cell_type": "markdown",
   "metadata": {},
   "source": [
    "### How does the peak year compare to a decade before?"
   ]
  },
  {
   "cell_type": "code",
   "execution_count": 26,
   "metadata": {},
   "outputs": [
    {
     "data": {
      "text/plain": [
       "'The peak year was 6.6 times more than a decade before.'"
      ]
     },
     "execution_count": 26,
     "metadata": {},
     "output_type": "execute_result"
    }
   ],
   "source": [
    "\"The peak year was {:.1f} times more than a decade before.\".format(\n",
    "    annual_totals.at[2017, \"amount\"] / annual_totals.at[2007, \"amount\"]\n",
    ")"
   ]
  },
  {
   "cell_type": "markdown",
   "metadata": {},
   "source": [
    "### What departments account for the most payouts?"
   ]
  },
  {
   "cell_type": "code",
   "execution_count": 27,
   "metadata": {},
   "outputs": [],
   "source": [
    "dept_totals = df.groupby(\"latimes_department\").agg(dict(\n",
    "    number=\"count\",\n",
    "    amount=\"sum\"\n",
    ")).reset_index().set_index(\"latimes_department\").sort_values(\n",
    "    \"amount\",\n",
    "    ascending=False\n",
    ")"
   ]
  },
  {
   "cell_type": "code",
   "execution_count": 28,
   "metadata": {},
   "outputs": [],
   "source": [
    "dept_totals['number_percent'] = dept_totals.number / len(df)\n",
    "dept_totals['amount_percent'] = dept_totals.amount / df.amount.sum()"
   ]
  },
  {
   "cell_type": "code",
   "execution_count": 29,
   "metadata": {},
   "outputs": [
    {
     "data": {
      "application/vnd.vegalite.v2+json": {
       "$schema": "https://vega.github.io/schema/vega-lite/v2.4.3.json",
       "config": {
        "view": {
         "height": 300,
         "width": 400
        }
       },
       "data": {
        "values": [
         {
          "amount": 373751894.1400002,
          "amount_percent": 0.42438635551449305,
          "latimes_department": "LAPD",
          "number": 3824,
          "number_percent": 0.2044810437944495
         },
         {
          "amount": 206591227.32999995,
          "amount_percent": 0.23457940795078258,
          "latimes_department": "PUBLIC WORKS",
          "number": 11032,
          "number_percent": 0.5899149778086733
         },
         {
          "amount": 124254979.88999997,
          "amount_percent": 0.14108856408976828,
          "latimes_department": "TRANSPORTATION",
          "number": 992,
          "number_percent": 0.05304529169563125
         },
         {
          "amount": 48946060.83,
          "amount_percent": 0.05557708388403131,
          "latimes_department": "FINANCE",
          "number": 19,
          "number_percent": 0.001015988449815518
         },
         {
          "amount": 44034102.46000001,
          "amount_percent": 0.04999967238788417,
          "latimes_department": "LAFD",
          "number": 782,
          "number_percent": 0.04181594567135447
         },
         {
          "amount": 27018440.630000003,
          "amount_percent": 0.030678794490216998,
          "latimes_department": "HOUSING",
          "number": 33,
          "number_percent": 0.0017646115181006363
         },
         {
          "amount": 21446942.949999996,
          "amount_percent": 0.02435249184869253,
          "latimes_department": "RECREATION AND PARKS",
          "number": 787,
          "number_percent": 0.042083311052884875
         },
         {
          "amount": 7209380.110000001,
          "amount_percent": 0.008186079049690442,
          "latimes_department": "GENERAL SERVICES",
          "number": 375,
          "number_percent": 0.02005240361477996
         },
         {
          "amount": 6056337.350000001,
          "amount_percent": 0.006876826515212377,
          "latimes_department": "PLANNING",
          "number": 43,
          "number_percent": 0.002299342281161435
         },
         {
          "amount": 5337847.7,
          "amount_percent": 0.006060998665724161,
          "latimes_department": "DWP",
          "number": 7,
          "number_percent": 0.00037431153414255923
         }
        ]
       },
       "encoding": {
        "x": {
         "axis": {
          "format": "$s",
          "title": "Amount"
         },
         "field": "amount",
         "type": "quantitative"
        },
        "y": {
         "axis": {
          "title": "Department"
         },
         "field": "latimes_department",
         "sort": {
          "field": "amount",
          "op": "sum",
          "order": "descending"
         },
         "type": "nominal"
        }
       },
       "mark": "bar",
       "title": "L.A. city payouts by department"
      },
      "image/png": "[encoded data removed]",
      "text/plain": [
       "<VegaLite 2 object>\n",
       "\n",
       "If you see this message, it means the renderer has not been properly enabled\n",
       "for the frontend that you are using. For more information, see\n",
       "https://altair-viz.github.io/user_guide/troubleshooting.html\n"
      ]
     },
     "execution_count": 29,
     "metadata": {},
     "output_type": "execute_result"
    }
   ],
   "source": [
    "alt.Chart(dept_totals.reset_index().head(10), title=\"L.A. city payouts by department\").mark_bar().encode(\n",
    "    x=alt.X(\"amount:Q\", axis=alt.Axis(title=\"Amount\", format=\"$s\")),\n",
    "    y=alt.Y(\n",
    "        \"latimes_department:N\",\n",
    "        sort=alt.SortField(field=\"amount\", op=\"sum\", order=\"descending\"),\n",
    "        axis=alt.Axis(title=\"Department\")\n",
    "    )\n",
    ")"
   ]
  },
  {
   "cell_type": "code",
   "execution_count": 30,
   "metadata": {},
   "outputs": [
    {
     "data": {
      "text/html": [
       "<div>\n",
       "<style scoped>\n",
       "    .dataframe tbody tr th:only-of-type {\n",
       "        vertical-align: middle;\n",
       "    }\n",
       "\n",
       "    .dataframe tbody tr th {\n",
       "        vertical-align: top;\n",
       "    }\n",
       "\n",
       "    .dataframe thead th {\n",
       "        text-align: right;\n",
       "    }\n",
       "</style>\n",
       "<table border=\"1\" class=\"dataframe\">\n",
       "  <thead>\n",
       "    <tr style=\"text-align: right;\">\n",
       "      <th></th>\n",
       "      <th>amount</th>\n",
       "      <th>number</th>\n",
       "      <th>number_percent</th>\n",
       "      <th>amount_percent</th>\n",
       "    </tr>\n",
       "    <tr>\n",
       "      <th>latimes_department</th>\n",
       "      <th></th>\n",
       "      <th></th>\n",
       "      <th></th>\n",
       "      <th></th>\n",
       "    </tr>\n",
       "  </thead>\n",
       "  <tbody>\n",
       "    <tr>\n",
       "      <th>LAPD</th>\n",
       "      <td>373,751,894.14</td>\n",
       "      <td>3824</td>\n",
       "      <td>0.20</td>\n",
       "      <td>0.42</td>\n",
       "    </tr>\n",
       "    <tr>\n",
       "      <th>PUBLIC WORKS</th>\n",
       "      <td>206,591,227.33</td>\n",
       "      <td>11032</td>\n",
       "      <td>0.59</td>\n",
       "      <td>0.23</td>\n",
       "    </tr>\n",
       "    <tr>\n",
       "      <th>TRANSPORTATION</th>\n",
       "      <td>124,254,979.89</td>\n",
       "      <td>992</td>\n",
       "      <td>0.05</td>\n",
       "      <td>0.14</td>\n",
       "    </tr>\n",
       "    <tr>\n",
       "      <th>FINANCE</th>\n",
       "      <td>48,946,060.83</td>\n",
       "      <td>19</td>\n",
       "      <td>0.00</td>\n",
       "      <td>0.06</td>\n",
       "    </tr>\n",
       "    <tr>\n",
       "      <th>LAFD</th>\n",
       "      <td>44,034,102.46</td>\n",
       "      <td>782</td>\n",
       "      <td>0.04</td>\n",
       "      <td>0.05</td>\n",
       "    </tr>\n",
       "    <tr>\n",
       "      <th>HOUSING</th>\n",
       "      <td>27,018,440.63</td>\n",
       "      <td>33</td>\n",
       "      <td>0.00</td>\n",
       "      <td>0.03</td>\n",
       "    </tr>\n",
       "    <tr>\n",
       "      <th>RECREATION AND PARKS</th>\n",
       "      <td>21,446,942.95</td>\n",
       "      <td>787</td>\n",
       "      <td>0.04</td>\n",
       "      <td>0.02</td>\n",
       "    </tr>\n",
       "    <tr>\n",
       "      <th>GENERAL SERVICES</th>\n",
       "      <td>7,209,380.11</td>\n",
       "      <td>375</td>\n",
       "      <td>0.02</td>\n",
       "      <td>0.01</td>\n",
       "    </tr>\n",
       "    <tr>\n",
       "      <th>PLANNING</th>\n",
       "      <td>6,056,337.35</td>\n",
       "      <td>43</td>\n",
       "      <td>0.00</td>\n",
       "      <td>0.01</td>\n",
       "    </tr>\n",
       "    <tr>\n",
       "      <th>DWP</th>\n",
       "      <td>5,337,847.70</td>\n",
       "      <td>7</td>\n",
       "      <td>0.00</td>\n",
       "      <td>0.01</td>\n",
       "    </tr>\n",
       "  </tbody>\n",
       "</table>\n",
       "</div>"
      ],
      "text/plain": [
       "                             amount  number  number_percent  amount_percent\n",
       "latimes_department                                                         \n",
       "LAPD                 373,751,894.14    3824            0.20            0.42\n",
       "PUBLIC WORKS         206,591,227.33   11032            0.59            0.23\n",
       "TRANSPORTATION       124,254,979.89     992            0.05            0.14\n",
       "FINANCE               48,946,060.83      19            0.00            0.06\n",
       "LAFD                  44,034,102.46     782            0.04            0.05\n",
       "HOUSING               27,018,440.63      33            0.00            0.03\n",
       "RECREATION AND PARKS  21,446,942.95     787            0.04            0.02\n",
       "GENERAL SERVICES       7,209,380.11     375            0.02            0.01\n",
       "PLANNING               6,056,337.35      43            0.00            0.01\n",
       "DWP                    5,337,847.70       7            0.00            0.01"
      ]
     },
     "execution_count": 30,
     "metadata": {},
     "output_type": "execute_result"
    }
   ],
   "source": [
    "dept_totals.head(10)"
   ]
  },
  {
   "cell_type": "markdown",
   "metadata": {},
   "source": [
    "Write out a CSV for a graphic"
   ]
  },
  {
   "cell_type": "code",
   "execution_count": 31,
   "metadata": {},
   "outputs": [],
   "source": [
    "dept_totals.to_csv(os.path.join(output_dir, \"department-totals.csv\"))"
   ]
  },
  {
   "cell_type": "markdown",
   "metadata": {},
   "source": [
    "### What have the trends been for the top departments?"
   ]
  },
  {
   "cell_type": "code",
   "execution_count": 32,
   "metadata": {},
   "outputs": [],
   "source": [
    "top_dept_df = df[df.latimes_department.isin(['LAPD', 'PUBLIC WORKS', 'TRANSPORTATION'])]"
   ]
  },
  {
   "cell_type": "code",
   "execution_count": 33,
   "metadata": {},
   "outputs": [],
   "source": [
    "top_dept_annual_totals = top_dept_df.groupby([\"fiscal_year\", 'latimes_department']).agg(dict(\n",
    "    amount=\"sum\",\n",
    ")).reset_index()"
   ]
  },
  {
   "cell_type": "code",
   "execution_count": 34,
   "metadata": {},
   "outputs": [
    {
     "data": {
      "application/vnd.vegalite.v2+json": {
       "$schema": "https://vega.github.io/schema/vega-lite/v2.4.3.json",
       "config": {
        "view": {
         "height": 300,
         "width": 400
        }
       },
       "data": {
        "values": [
         {
          "amount": 19951740,
          "fiscal_year": 2006,
          "latimes_department": "LAPD"
         },
         {
          "amount": 8829276,
          "fiscal_year": 2006,
          "latimes_department": "PUBLIC WORKS"
         },
         {
          "amount": 580669,
          "fiscal_year": 2006,
          "latimes_department": "TRANSPORTATION"
         },
         {
          "amount": 13189658,
          "fiscal_year": 2007,
          "latimes_department": "LAPD"
         },
         {
          "amount": 12814091,
          "fiscal_year": 2007,
          "latimes_department": "PUBLIC WORKS"
         },
         {
          "amount": 210502,
          "fiscal_year": 2007,
          "latimes_department": "TRANSPORTATION"
         },
         {
          "amount": 5817517,
          "fiscal_year": 2008,
          "latimes_department": "LAPD"
         },
         {
          "amount": 7670211,
          "fiscal_year": 2008,
          "latimes_department": "PUBLIC WORKS"
         },
         {
          "amount": 16975762,
          "fiscal_year": 2008,
          "latimes_department": "TRANSPORTATION"
         },
         {
          "amount": 12041127,
          "fiscal_year": 2009,
          "latimes_department": "LAPD"
         },
         {
          "amount": 13173315,
          "fiscal_year": 2009,
          "latimes_department": "PUBLIC WORKS"
         },
         {
          "amount": 1701307,
          "fiscal_year": 2009,
          "latimes_department": "TRANSPORTATION"
         },
         {
          "amount": 31375371,
          "fiscal_year": 2010,
          "latimes_department": "LAPD"
         },
         {
          "amount": 27874119,
          "fiscal_year": 2010,
          "latimes_department": "PUBLIC WORKS"
         },
         {
          "amount": 12213429,
          "fiscal_year": 2010,
          "latimes_department": "TRANSPORTATION"
         },
         {
          "amount": 23383702,
          "fiscal_year": 2011,
          "latimes_department": "LAPD"
         },
         {
          "amount": 8662041,
          "fiscal_year": 2011,
          "latimes_department": "PUBLIC WORKS"
         },
         {
          "amount": 8237377,
          "fiscal_year": 2011,
          "latimes_department": "TRANSPORTATION"
         },
         {
          "amount": 19658628,
          "fiscal_year": 2012,
          "latimes_department": "LAPD"
         },
         {
          "amount": 16822104,
          "fiscal_year": 2012,
          "latimes_department": "PUBLIC WORKS"
         },
         {
          "amount": 4975417,
          "fiscal_year": 2012,
          "latimes_department": "TRANSPORTATION"
         },
         {
          "amount": 18238625,
          "fiscal_year": 2013,
          "latimes_department": "LAPD"
         },
         {
          "amount": 13815293.05,
          "fiscal_year": 2013,
          "latimes_department": "PUBLIC WORKS"
         },
         {
          "amount": 1725143,
          "fiscal_year": 2013,
          "latimes_department": "TRANSPORTATION"
         },
         {
          "amount": 39062943.14,
          "fiscal_year": 2014,
          "latimes_department": "LAPD"
         },
         {
          "amount": 9377487.399999991,
          "fiscal_year": 2014,
          "latimes_department": "PUBLIC WORKS"
         },
         {
          "amount": 3982589.5100000002,
          "fiscal_year": 2014,
          "latimes_department": "TRANSPORTATION"
         },
         {
          "amount": 38549424.09999997,
          "fiscal_year": 2015,
          "latimes_department": "LAPD"
         },
         {
          "amount": 9634498.190000001,
          "fiscal_year": 2015,
          "latimes_department": "PUBLIC WORKS"
         },
         {
          "amount": 1956464.35,
          "fiscal_year": 2015,
          "latimes_department": "TRANSPORTATION"
         },
         {
          "amount": 80834391.89000002,
          "fiscal_year": 2016,
          "latimes_department": "LAPD"
         },
         {
          "amount": 8109829.489999997,
          "fiscal_year": 2016,
          "latimes_department": "PUBLIC WORKS"
         },
         {
          "amount": 20199562.64,
          "fiscal_year": 2016,
          "latimes_department": "TRANSPORTATION"
         },
         {
          "amount": 47758960.11000004,
          "fiscal_year": 2017,
          "latimes_department": "LAPD"
         },
         {
          "amount": 45535356.47999999,
          "fiscal_year": 2017,
          "latimes_department": "PUBLIC WORKS"
         },
         {
          "amount": 32138147.88,
          "fiscal_year": 2017,
          "latimes_department": "TRANSPORTATION"
         },
         {
          "amount": 23889806.900000002,
          "fiscal_year": 2018,
          "latimes_department": "LAPD"
         },
         {
          "amount": 24273605.719999988,
          "fiscal_year": 2018,
          "latimes_department": "PUBLIC WORKS"
         },
         {
          "amount": 19358609.51,
          "fiscal_year": 2018,
          "latimes_department": "TRANSPORTATION"
         }
        ]
       },
       "encoding": {
        "color": {
         "field": "latimes_department",
         "legend": null,
         "type": "nominal"
        },
        "column": {
         "field": "latimes_department",
         "title": "Top departments by year",
         "type": "nominal"
        },
        "x": {
         "axis": {
          "labelAngle": 0,
          "title": "Fiscal Year"
         },
         "field": "fiscal_year",
         "type": "ordinal"
        },
        "y": {
         "axis": {
          "format": "$s",
          "title": "Amount"
         },
         "field": "amount",
         "type": "quantitative"
        }
       },
       "mark": "bar"
      },
      "image/png": "[encoded data removed]",
      "text/plain": [
       "<VegaLite 2 object>\n",
       "\n",
       "If you see this message, it means the renderer has not been properly enabled\n",
       "for the frontend that you are using. For more information, see\n",
       "https://altair-viz.github.io/user_guide/troubleshooting.html\n"
      ]
     },
     "execution_count": 34,
     "metadata": {},
     "output_type": "execute_result"
    }
   ],
   "source": [
    "alt.Chart(top_dept_annual_totals).mark_bar().encode(\n",
    "    x=alt.X(\"fiscal_year:O\", axis=alt.Axis(title=\"Fiscal Year\", labelAngle=0)),\n",
    "    y=alt.Y(\"amount:Q\", axis=alt.Axis(title=\"Amount\", format=\"$s\")),\n",
    "    color=alt.Color(\"latimes_department:N\", legend=None),\n",
    "    column=alt.Column(\"latimes_department:N\", title=\"Top departments by year\"),\n",
    ")"
   ]
  },
  {
   "cell_type": "markdown",
   "metadata": {},
   "source": [
    "### What case types account for the most payouts?"
   ]
  },
  {
   "cell_type": "code",
   "execution_count": 35,
   "metadata": {},
   "outputs": [],
   "source": [
    "type_totals = df.groupby(\"latimes_type\").agg(dict(\n",
    "    number=\"count\",\n",
    "    amount=\"sum\"\n",
    ")).reset_index().set_index(\"latimes_type\").sort_values(\n",
    "    \"amount\",\n",
    "    ascending=False\n",
    ")"
   ]
  },
  {
   "cell_type": "code",
   "execution_count": 36,
   "metadata": {},
   "outputs": [],
   "source": [
    "type_totals['number_percent'] = type_totals.number / len(df)\n",
    "type_totals['amount_percent'] = type_totals.amount / df.amount.sum()"
   ]
  },
  {
   "cell_type": "code",
   "execution_count": 37,
   "metadata": {},
   "outputs": [
    {
     "data": {
      "application/vnd.vegalite.v2+json": {
       "$schema": "https://vega.github.io/schema/vega-lite/v2.4.3.json",
       "config": {
        "view": {
         "height": 300,
         "width": 400
        }
       },
       "data": {
        "values": [
         {
          "amount": 190525995.21,
          "amount_percent": 0.21633772030505438,
          "latimes_type": "Police Misconduct",
          "number": 457,
          "number_percent": 0.02443719587187851
         },
         {
          "amount": 173189941.24000004,
          "amount_percent": 0.19665304477916934,
          "latimes_type": "Dangerous Condition",
          "number": 4647,
          "number_percent": 0.24848938559435324
         },
         {
          "amount": 138422936.03,
          "amount_percent": 0.15717594014221328,
          "latimes_type": "Traffic Accident",
          "number": 9466,
          "number_percent": 0.5061761403133522
         },
         {
          "amount": 71993217.33999999,
          "amount_percent": 0.0817465800380422,
          "latimes_type": "Discrimination",
          "number": 199,
          "number_percent": 0.010641142184909897
         },
         {
          "amount": 52959034.57,
          "amount_percent": 0.06013371978874738,
          "latimes_type": "Inverse Condemnation",
          "number": 95,
          "number_percent": 0.00507994224907759
         },
         {
          "amount": 50007623.330000006,
          "amount_percent": 0.05678246276662529,
          "latimes_type": "Retaliation",
          "number": 89,
          "number_percent": 0.00475910379124111
         },
         {
          "amount": 46260855.83,
          "amount_percent": 0.05252809769392404,
          "latimes_type": "Taxes",
          "number": 4,
          "number_percent": 0.00021389230522431956
         },
         {
          "amount": 43291261.18,
          "amount_percent": 0.04915619384372772,
          "latimes_type": "Trip and Fall",
          "number": 1764,
          "number_percent": 0.09432650660392493
         },
         {
          "amount": 34361805.96,
          "amount_percent": 0.0390170105594119,
          "latimes_type": "Americans with Disability Act",
          "number": 11,
          "number_percent": 0.0005882038393668788
         },
         {
          "amount": 26942116.569999993,
          "amount_percent": 0.0305921303417021,
          "latimes_type": "Other",
          "number": 951,
          "number_percent": 0.050852895567081974
         }
        ]
       },
       "encoding": {
        "x": {
         "axis": {
          "format": "$s",
          "title": "Amount"
         },
         "field": "amount",
         "type": "quantitative"
        },
        "y": {
         "axis": {
          "title": "Type"
         },
         "field": "latimes_type",
         "sort": {
          "field": "amount",
          "op": "sum",
          "order": "descending"
         },
         "type": "nominal"
        }
       },
       "mark": "bar",
       "title": "L.A. city payouts by type"
      },
      "image/png": "[encoded data removed]",
      "text/plain": [
       "<VegaLite 2 object>\n",
       "\n",
       "If you see this message, it means the renderer has not been properly enabled\n",
       "for the frontend that you are using. For more information, see\n",
       "https://altair-viz.github.io/user_guide/troubleshooting.html\n"
      ]
     },
     "execution_count": 37,
     "metadata": {},
     "output_type": "execute_result"
    }
   ],
   "source": [
    "alt.Chart(type_totals.reset_index().head(10), title=\"L.A. city payouts by type\").mark_bar().encode(\n",
    "    x=alt.X(\"amount:Q\", axis=alt.Axis(title=\"Amount\", format=\"$s\")),\n",
    "    y=alt.Y(\n",
    "        \"latimes_type:N\",\n",
    "        sort=alt.SortField(field=\"amount\", op=\"sum\", order=\"descending\"),\n",
    "        axis=alt.Axis(title=\"Type\")\n",
    "    )\n",
    ")"
   ]
  },
  {
   "cell_type": "code",
   "execution_count": 38,
   "metadata": {},
   "outputs": [
    {
     "data": {
      "text/html": [
       "<div>\n",
       "<style scoped>\n",
       "    .dataframe tbody tr th:only-of-type {\n",
       "        vertical-align: middle;\n",
       "    }\n",
       "\n",
       "    .dataframe tbody tr th {\n",
       "        vertical-align: top;\n",
       "    }\n",
       "\n",
       "    .dataframe thead th {\n",
       "        text-align: right;\n",
       "    }\n",
       "</style>\n",
       "<table border=\"1\" class=\"dataframe\">\n",
       "  <thead>\n",
       "    <tr style=\"text-align: right;\">\n",
       "      <th></th>\n",
       "      <th>amount</th>\n",
       "      <th>number</th>\n",
       "      <th>number_percent</th>\n",
       "      <th>amount_percent</th>\n",
       "    </tr>\n",
       "    <tr>\n",
       "      <th>latimes_type</th>\n",
       "      <th></th>\n",
       "      <th></th>\n",
       "      <th></th>\n",
       "      <th></th>\n",
       "    </tr>\n",
       "  </thead>\n",
       "  <tbody>\n",
       "    <tr>\n",
       "      <th>Police Misconduct</th>\n",
       "      <td>190,525,995.21</td>\n",
       "      <td>457</td>\n",
       "      <td>0.02</td>\n",
       "      <td>0.22</td>\n",
       "    </tr>\n",
       "    <tr>\n",
       "      <th>Dangerous Condition</th>\n",
       "      <td>173,189,941.24</td>\n",
       "      <td>4647</td>\n",
       "      <td>0.25</td>\n",
       "      <td>0.20</td>\n",
       "    </tr>\n",
       "    <tr>\n",
       "      <th>Traffic Accident</th>\n",
       "      <td>138,422,936.03</td>\n",
       "      <td>9466</td>\n",
       "      <td>0.51</td>\n",
       "      <td>0.16</td>\n",
       "    </tr>\n",
       "    <tr>\n",
       "      <th>Discrimination</th>\n",
       "      <td>71,993,217.34</td>\n",
       "      <td>199</td>\n",
       "      <td>0.01</td>\n",
       "      <td>0.08</td>\n",
       "    </tr>\n",
       "    <tr>\n",
       "      <th>Inverse Condemnation</th>\n",
       "      <td>52,959,034.57</td>\n",
       "      <td>95</td>\n",
       "      <td>0.01</td>\n",
       "      <td>0.06</td>\n",
       "    </tr>\n",
       "    <tr>\n",
       "      <th>Retaliation</th>\n",
       "      <td>50,007,623.33</td>\n",
       "      <td>89</td>\n",
       "      <td>0.00</td>\n",
       "      <td>0.06</td>\n",
       "    </tr>\n",
       "    <tr>\n",
       "      <th>Taxes</th>\n",
       "      <td>46,260,855.83</td>\n",
       "      <td>4</td>\n",
       "      <td>0.00</td>\n",
       "      <td>0.05</td>\n",
       "    </tr>\n",
       "    <tr>\n",
       "      <th>Trip and Fall</th>\n",
       "      <td>43,291,261.18</td>\n",
       "      <td>1764</td>\n",
       "      <td>0.09</td>\n",
       "      <td>0.05</td>\n",
       "    </tr>\n",
       "    <tr>\n",
       "      <th>Americans with Disability Act</th>\n",
       "      <td>34,361,805.96</td>\n",
       "      <td>11</td>\n",
       "      <td>0.00</td>\n",
       "      <td>0.04</td>\n",
       "    </tr>\n",
       "    <tr>\n",
       "      <th>Other</th>\n",
       "      <td>26,942,116.57</td>\n",
       "      <td>951</td>\n",
       "      <td>0.05</td>\n",
       "      <td>0.03</td>\n",
       "    </tr>\n",
       "  </tbody>\n",
       "</table>\n",
       "</div>"
      ],
      "text/plain": [
       "                                      amount  number  number_percent  \\\n",
       "latimes_type                                                           \n",
       "Police Misconduct             190,525,995.21     457            0.02   \n",
       "Dangerous Condition           173,189,941.24    4647            0.25   \n",
       "Traffic Accident              138,422,936.03    9466            0.51   \n",
       "Discrimination                 71,993,217.34     199            0.01   \n",
       "Inverse Condemnation           52,959,034.57      95            0.01   \n",
       "Retaliation                    50,007,623.33      89            0.00   \n",
       "Taxes                          46,260,855.83       4            0.00   \n",
       "Trip and Fall                  43,291,261.18    1764            0.09   \n",
       "Americans with Disability Act  34,361,805.96      11            0.00   \n",
       "Other                          26,942,116.57     951            0.05   \n",
       "\n",
       "                               amount_percent  \n",
       "latimes_type                                   \n",
       "Police Misconduct                        0.22  \n",
       "Dangerous Condition                      0.20  \n",
       "Traffic Accident                         0.16  \n",
       "Discrimination                           0.08  \n",
       "Inverse Condemnation                     0.06  \n",
       "Retaliation                              0.06  \n",
       "Taxes                                    0.05  \n",
       "Trip and Fall                            0.05  \n",
       "Americans with Disability Act            0.04  \n",
       "Other                                    0.03  "
      ]
     },
     "execution_count": 38,
     "metadata": {},
     "output_type": "execute_result"
    }
   ],
   "source": [
    "type_totals.head(10)"
   ]
  },
  {
   "cell_type": "code",
   "execution_count": 39,
   "metadata": {},
   "outputs": [],
   "source": [
    "type_totals.to_csv(os.path.join(output_dir, \"type-totals.csv\"))"
   ]
  },
  {
   "cell_type": "markdown",
   "metadata": {},
   "source": [
    "### What have the trends been for the top types?"
   ]
  },
  {
   "cell_type": "code",
   "execution_count": 40,
   "metadata": {},
   "outputs": [],
   "source": [
    "top_type_df = df[df.latimes_type.isin(['Police Misconduct', 'Dangerous Condition', 'Traffic Accident'])]"
   ]
  },
  {
   "cell_type": "code",
   "execution_count": 41,
   "metadata": {},
   "outputs": [],
   "source": [
    "top_type_annual_totals = top_type_df.groupby([\"fiscal_year\", 'latimes_type']).agg(dict(\n",
    "    amount=\"sum\",\n",
    ")).reset_index()"
   ]
  },
  {
   "cell_type": "code",
   "execution_count": 42,
   "metadata": {},
   "outputs": [
    {
     "data": {
      "application/vnd.vegalite.v2+json": {
       "$schema": "https://vega.github.io/schema/vega-lite/v2.4.3.json",
       "config": {
        "view": {
         "height": 300,
         "width": 400
        }
       },
       "data": {
        "values": [
         {
          "amount": 1288714,
          "fiscal_year": 2006,
          "latimes_type": "Dangerous Condition"
         },
         {
          "amount": 8134755,
          "fiscal_year": 2006,
          "latimes_type": "Police Misconduct"
         },
         {
          "amount": 9914118,
          "fiscal_year": 2006,
          "latimes_type": "Traffic Accident"
         },
         {
          "amount": 2460020,
          "fiscal_year": 2007,
          "latimes_type": "Dangerous Condition"
         },
         {
          "amount": 8542444,
          "fiscal_year": 2007,
          "latimes_type": "Police Misconduct"
         },
         {
          "amount": 7057695,
          "fiscal_year": 2007,
          "latimes_type": "Traffic Accident"
         },
         {
          "amount": 19923405,
          "fiscal_year": 2008,
          "latimes_type": "Dangerous Condition"
         },
         {
          "amount": 2465091,
          "fiscal_year": 2008,
          "latimes_type": "Police Misconduct"
         },
         {
          "amount": 3879639,
          "fiscal_year": 2008,
          "latimes_type": "Traffic Accident"
         },
         {
          "amount": 3709065,
          "fiscal_year": 2009,
          "latimes_type": "Dangerous Condition"
         },
         {
          "amount": 2781919,
          "fiscal_year": 2009,
          "latimes_type": "Police Misconduct"
         },
         {
          "amount": 10595519,
          "fiscal_year": 2009,
          "latimes_type": "Traffic Accident"
         },
         {
          "amount": 12165405,
          "fiscal_year": 2010,
          "latimes_type": "Dangerous Condition"
         },
         {
          "amount": 16422934,
          "fiscal_year": 2010,
          "latimes_type": "Police Misconduct"
         },
         {
          "amount": 16477620,
          "fiscal_year": 2010,
          "latimes_type": "Traffic Accident"
         },
         {
          "amount": 9561225,
          "fiscal_year": 2011,
          "latimes_type": "Dangerous Condition"
         },
         {
          "amount": 5747272,
          "fiscal_year": 2011,
          "latimes_type": "Police Misconduct"
         },
         {
          "amount": 12243689,
          "fiscal_year": 2011,
          "latimes_type": "Traffic Accident"
         },
         {
          "amount": 9132567,
          "fiscal_year": 2012,
          "latimes_type": "Dangerous Condition"
         },
         {
          "amount": 3791125,
          "fiscal_year": 2012,
          "latimes_type": "Police Misconduct"
         },
         {
          "amount": 13698507,
          "fiscal_year": 2012,
          "latimes_type": "Traffic Accident"
         },
         {
          "amount": 3836007,
          "fiscal_year": 2013,
          "latimes_type": "Dangerous Condition"
         },
         {
          "amount": 2148686,
          "fiscal_year": 2013,
          "latimes_type": "Police Misconduct"
         },
         {
          "amount": 17394713.05,
          "fiscal_year": 2013,
          "latimes_type": "Traffic Accident"
         },
         {
          "amount": 5810042.839999994,
          "fiscal_year": 2014,
          "latimes_type": "Dangerous Condition"
         },
         {
          "amount": 13290833.23,
          "fiscal_year": 2014,
          "latimes_type": "Police Misconduct"
         },
         {
          "amount": 12259596.46000001,
          "fiscal_year": 2014,
          "latimes_type": "Traffic Accident"
         },
         {
          "amount": 4334494.530000001,
          "fiscal_year": 2015,
          "latimes_type": "Dangerous Condition"
         },
         {
          "amount": 23644282.89,
          "fiscal_year": 2015,
          "latimes_type": "Police Misconduct"
         },
         {
          "amount": 3508533.949999999,
          "fiscal_year": 2015,
          "latimes_type": "Traffic Accident"
         },
         {
          "amount": 22053222.800000023,
          "fiscal_year": 2016,
          "latimes_type": "Dangerous Condition"
         },
         {
          "amount": 67159301.27000001,
          "fiscal_year": 2016,
          "latimes_type": "Police Misconduct"
         },
         {
          "amount": 8199102.460000003,
          "fiscal_year": 2016,
          "latimes_type": "Traffic Accident"
         },
         {
          "amount": 48079509.420000024,
          "fiscal_year": 2017,
          "latimes_type": "Dangerous Condition"
         },
         {
          "amount": 23461639.82,
          "fiscal_year": 2017,
          "latimes_type": "Police Misconduct"
         },
         {
          "amount": 16446489.029999997,
          "fiscal_year": 2017,
          "latimes_type": "Traffic Accident"
         },
         {
          "amount": 30836263.649999984,
          "fiscal_year": 2018,
          "latimes_type": "Dangerous Condition"
         },
         {
          "amount": 12935712,
          "fiscal_year": 2018,
          "latimes_type": "Police Misconduct"
         },
         {
          "amount": 6747714.079999997,
          "fiscal_year": 2018,
          "latimes_type": "Traffic Accident"
         }
        ]
       },
       "encoding": {
        "color": {
         "field": "latimes_type",
         "legend": null,
         "type": "nominal"
        },
        "column": {
         "field": "latimes_type",
         "title": "Top types by year",
         "type": "nominal"
        },
        "x": {
         "axis": {
          "labelAngle": 0,
          "title": "Fiscal Year"
         },
         "field": "fiscal_year",
         "type": "ordinal"
        },
        "y": {
         "axis": {
          "format": "$s",
          "title": "Amount"
         },
         "field": "amount",
         "type": "quantitative"
        }
       },
       "mark": "bar"
      },
      "image/png": "[encoded data removed]",
      "text/plain": [
       "<VegaLite 2 object>\n",
       "\n",
       "If you see this message, it means the renderer has not been properly enabled\n",
       "for the frontend that you are using. For more information, see\n",
       "https://altair-viz.github.io/user_guide/troubleshooting.html\n"
      ]
     },
     "execution_count": 42,
     "metadata": {},
     "output_type": "execute_result"
    }
   ],
   "source": [
    "alt.Chart(top_type_annual_totals).mark_bar().encode(\n",
    "    x=alt.X(\"fiscal_year:O\", axis=alt.Axis(title=\"Fiscal Year\", labelAngle=0)),\n",
    "    y=alt.Y(\"amount:Q\", axis=alt.Axis(title=\"Amount\", format=\"$s\")),\n",
    "    color=alt.Color(\"latimes_type:N\", legend=None),\n",
    "    column=alt.Column(\"latimes_type:N\", title=\"Top types by year\"),\n",
    ")"
   ]
  },
  {
   "cell_type": "markdown",
   "metadata": {},
   "source": [
    "### How many million-dollar cases have there been?"
   ]
  },
  {
   "cell_type": "code",
   "execution_count": 43,
   "metadata": {},
   "outputs": [],
   "source": [
    "over1mill_df = df[df.amount >= 1000000]"
   ]
  },
  {
   "cell_type": "code",
   "execution_count": 44,
   "metadata": {},
   "outputs": [],
   "source": [
    "over1mill_annual_counts = over1mill_df.groupby(\"fiscal_year\").agg(dict(\n",
    "    number=\"count\"\n",
    ")).reset_index().set_index(\"fiscal_year\")"
   ]
  },
  {
   "cell_type": "code",
   "execution_count": 45,
   "metadata": {},
   "outputs": [
    {
     "data": {
      "application/vnd.vegalite.v2+json": {
       "$schema": "https://vega.github.io/schema/vega-lite/v2.4.3.json",
       "config": {
        "view": {
         "height": 300,
         "width": 400
        }
       },
       "data": {
        "values": [
         {
          "fiscal_year": 2006,
          "number": 8
         },
         {
          "fiscal_year": 2007,
          "number": 6
         },
         {
          "fiscal_year": 2008,
          "number": 5
         },
         {
          "fiscal_year": 2009,
          "number": 12
         },
         {
          "fiscal_year": 2010,
          "number": 21
         },
         {
          "fiscal_year": 2011,
          "number": 11
         },
         {
          "fiscal_year": 2012,
          "number": 12
         },
         {
          "fiscal_year": 2013,
          "number": 6
         },
         {
          "fiscal_year": 2014,
          "number": 11
         },
         {
          "fiscal_year": 2015,
          "number": 16
         },
         {
          "fiscal_year": 2016,
          "number": 18
         },
         {
          "fiscal_year": 2017,
          "number": 30
         },
         {
          "fiscal_year": 2018,
          "number": 16
         }
        ]
       },
       "encoding": {
        "x": {
         "axis": {
          "labelAngle": 0,
          "title": "Fiscal year"
         },
         "field": "fiscal_year",
         "type": "ordinal"
        },
        "y": {
         "axis": {
          "title": "Payouts"
         },
         "field": "number",
         "type": "quantitative"
        }
       },
       "mark": "bar",
       "title": "$1 million payouts",
       "width": 600
      },
      "image/png": "[encoded data removed]",
      "text/plain": [
       "<VegaLite 2 object>\n",
       "\n",
       "If you see this message, it means the renderer has not been properly enabled\n",
       "for the frontend that you are using. For more information, see\n",
       "https://altair-viz.github.io/user_guide/troubleshooting.html\n"
      ]
     },
     "execution_count": 45,
     "metadata": {},
     "output_type": "execute_result"
    }
   ],
   "source": [
    "alt.Chart(over1mill_annual_counts.reset_index(), title=\"$1 million payouts\").mark_bar().encode(\n",
    "    x=alt.X(\"fiscal_year:O\", axis=alt.Axis(title=\"Fiscal year\", labelAngle=0)),\n",
    "    y=alt.Y(\"number:Q\", axis=alt.Axis(title=\"Payouts\"))\n",
    ").properties(width=600)"
   ]
  },
  {
   "cell_type": "code",
   "execution_count": 46,
   "metadata": {},
   "outputs": [
    {
     "data": {
      "text/html": [
       "<div>\n",
       "<style scoped>\n",
       "    .dataframe tbody tr th:only-of-type {\n",
       "        vertical-align: middle;\n",
       "    }\n",
       "\n",
       "    .dataframe tbody tr th {\n",
       "        vertical-align: top;\n",
       "    }\n",
       "\n",
       "    .dataframe thead th {\n",
       "        text-align: right;\n",
       "    }\n",
       "</style>\n",
       "<table border=\"1\" class=\"dataframe\">\n",
       "  <thead>\n",
       "    <tr style=\"text-align: right;\">\n",
       "      <th></th>\n",
       "      <th>number</th>\n",
       "    </tr>\n",
       "    <tr>\n",
       "      <th>fiscal_year</th>\n",
       "      <th></th>\n",
       "    </tr>\n",
       "  </thead>\n",
       "  <tbody>\n",
       "    <tr>\n",
       "      <th>2006</th>\n",
       "      <td>8</td>\n",
       "    </tr>\n",
       "    <tr>\n",
       "      <th>2007</th>\n",
       "      <td>6</td>\n",
       "    </tr>\n",
       "    <tr>\n",
       "      <th>2008</th>\n",
       "      <td>5</td>\n",
       "    </tr>\n",
       "    <tr>\n",
       "      <th>2009</th>\n",
       "      <td>12</td>\n",
       "    </tr>\n",
       "    <tr>\n",
       "      <th>2010</th>\n",
       "      <td>21</td>\n",
       "    </tr>\n",
       "    <tr>\n",
       "      <th>2011</th>\n",
       "      <td>11</td>\n",
       "    </tr>\n",
       "    <tr>\n",
       "      <th>2012</th>\n",
       "      <td>12</td>\n",
       "    </tr>\n",
       "    <tr>\n",
       "      <th>2013</th>\n",
       "      <td>6</td>\n",
       "    </tr>\n",
       "    <tr>\n",
       "      <th>2014</th>\n",
       "      <td>11</td>\n",
       "    </tr>\n",
       "    <tr>\n",
       "      <th>2015</th>\n",
       "      <td>16</td>\n",
       "    </tr>\n",
       "    <tr>\n",
       "      <th>2016</th>\n",
       "      <td>18</td>\n",
       "    </tr>\n",
       "    <tr>\n",
       "      <th>2017</th>\n",
       "      <td>30</td>\n",
       "    </tr>\n",
       "    <tr>\n",
       "      <th>2018</th>\n",
       "      <td>16</td>\n",
       "    </tr>\n",
       "  </tbody>\n",
       "</table>\n",
       "</div>"
      ],
      "text/plain": [
       "             number\n",
       "fiscal_year        \n",
       "2006              8\n",
       "2007              6\n",
       "2008              5\n",
       "2009             12\n",
       "2010             21\n",
       "2011             11\n",
       "2012             12\n",
       "2013              6\n",
       "2014             11\n",
       "2015             16\n",
       "2016             18\n",
       "2017             30\n",
       "2018             16"
      ]
     },
     "execution_count": 46,
     "metadata": {},
     "output_type": "execute_result"
    }
   ],
   "source": [
    "over1mill_annual_counts"
   ]
  },
  {
   "cell_type": "markdown",
   "metadata": {},
   "source": [
    "### Adjust for inflation"
   ]
  },
  {
   "cell_type": "markdown",
   "metadata": {},
   "source": [
    "In an interview, City Attorney Mike Feuer raised the possibility that the increase would be less significant if totals were adjusted for inflation. Let's check it out."
   ]
  },
  {
   "cell_type": "code",
   "execution_count": 47,
   "metadata": {},
   "outputs": [],
   "source": [
    "df['amount_2017'] = df.apply(lambda x: cpi.inflate(x.amount, x.fiscal_year) if x.fiscal_year < 2018 else x.amount, axis=1)"
   ]
  },
  {
   "cell_type": "code",
   "execution_count": 48,
   "metadata": {},
   "outputs": [],
   "source": [
    "annual_adjusted_totals = df.groupby(\"fiscal_year\").agg(dict(\n",
    "    amount_2017=\"sum\"\n",
    ")).reset_index().set_index(\"fiscal_year\")"
   ]
  },
  {
   "cell_type": "code",
   "execution_count": 49,
   "metadata": {},
   "outputs": [
    {
     "data": {
      "application/vnd.vegalite.v2+json": {
       "$schema": "https://vega.github.io/schema/vega-lite/v2.4.3.json",
       "config": {
        "view": {
         "height": 300,
         "width": 400
        }
       },
       "data": {
        "values": [
         {
          "amount_2017": 45238894.895238034,
          "fiscal_year": 2006
         },
         {
          "amount_2017": 36167429.873349294,
          "fiscal_year": 2007
         },
         {
          "amount_2017": 41711756.73501973,
          "fiscal_year": 2008
         },
         {
          "amount_2017": 41989677.43484797,
          "fiscal_year": 2009
         },
         {
          "amount_2017": 101773392.11505336,
          "fiscal_year": 2010
         },
         {
          "amount_2017": 49055088.555030376,
          "fiscal_year": 2011
         },
         {
          "amount_2017": 51564138.393860534,
          "fiscal_year": 2012
         },
         {
          "amount_2017": 41980505.67794037,
          "fiscal_year": 2013
         },
         {
          "amount_2017": 60411862.61819391,
          "fiscal_year": 2014
         },
         {
          "amount_2017": 66287682.97870268,
          "fiscal_year": 2015
         },
         {
          "amount_2017": 121644306.27805355,
          "fiscal_year": 2016
         },
         {
          "amount_2017": 201372336.23000002,
          "fiscal_year": 2017
         },
         {
          "amount_2017": 72829596.81,
          "fiscal_year": 2018
         }
        ]
       },
       "encoding": {
        "x": {
         "axis": {
          "labelAngle": 0,
          "title": "Fiscal year"
         },
         "field": "fiscal_year",
         "type": "ordinal"
        },
        "y": {
         "axis": {
          "format": "$s",
          "title": "Amount (Today's dollars)"
         },
         "field": "amount_2017",
         "type": "quantitative"
        }
       },
       "mark": "bar",
       "title": "L.A. city payouts, inflation adjusted",
       "width": 600
      },
      "image/png": "[encoded data removed]",
      "text/plain": [
       "<VegaLite 2 object>\n",
       "\n",
       "If you see this message, it means the renderer has not been properly enabled\n",
       "for the frontend that you are using. For more information, see\n",
       "https://altair-viz.github.io/user_guide/troubleshooting.html\n"
      ]
     },
     "execution_count": 49,
     "metadata": {},
     "output_type": "execute_result"
    }
   ],
   "source": [
    "alt.Chart(annual_adjusted_totals.reset_index(), title=\"L.A. city payouts, inflation adjusted\").mark_bar().encode(\n",
    "    x=alt.X(\"fiscal_year:O\", axis=alt.Axis(title=\"Fiscal year\", labelAngle=0)),\n",
    "    y=alt.Y(\"amount_2017:Q\", axis=alt.Axis(title=\"Amount (Today's dollars)\", format=\"$s\")),\n",
    ").properties(width=600)"
   ]
  },
  {
   "cell_type": "code",
   "execution_count": 50,
   "metadata": {},
   "outputs": [
    {
     "data": {
      "text/plain": [
       "'After adjusting for inflation, the peak year was 5.6 times more than a decade before.'"
      ]
     },
     "execution_count": 50,
     "metadata": {},
     "output_type": "execute_result"
    }
   ],
   "source": [
    "\"After adjusting for inflation, the peak year was {:.1f} times more than a decade before.\".format(\n",
    "    annual_adjusted_totals.at[2017, \"amount_2017\"] / annual_adjusted_totals.at[2007, \"amount_2017\"]\n",
    ")"
   ]
  },
  {
   "cell_type": "code",
   "execution_count": 51,
   "metadata": {},
   "outputs": [
    {
     "data": {
      "text/html": [
       "<div>\n",
       "<style scoped>\n",
       "    .dataframe tbody tr th:only-of-type {\n",
       "        vertical-align: middle;\n",
       "    }\n",
       "\n",
       "    .dataframe tbody tr th {\n",
       "        vertical-align: top;\n",
       "    }\n",
       "\n",
       "    .dataframe thead th {\n",
       "        text-align: right;\n",
       "    }\n",
       "</style>\n",
       "<table border=\"1\" class=\"dataframe\">\n",
       "  <thead>\n",
       "    <tr style=\"text-align: right;\">\n",
       "      <th></th>\n",
       "      <th>amount_2017</th>\n",
       "    </tr>\n",
       "    <tr>\n",
       "      <th>fiscal_year</th>\n",
       "      <th></th>\n",
       "    </tr>\n",
       "  </thead>\n",
       "  <tbody>\n",
       "    <tr>\n",
       "      <th>2006</th>\n",
       "      <td>45,238,894.90</td>\n",
       "    </tr>\n",
       "    <tr>\n",
       "      <th>2007</th>\n",
       "      <td>36,167,429.87</td>\n",
       "    </tr>\n",
       "    <tr>\n",
       "      <th>2008</th>\n",
       "      <td>41,711,756.74</td>\n",
       "    </tr>\n",
       "    <tr>\n",
       "      <th>2009</th>\n",
       "      <td>41,989,677.43</td>\n",
       "    </tr>\n",
       "    <tr>\n",
       "      <th>2010</th>\n",
       "      <td>101,773,392.12</td>\n",
       "    </tr>\n",
       "    <tr>\n",
       "      <th>2011</th>\n",
       "      <td>49,055,088.56</td>\n",
       "    </tr>\n",
       "    <tr>\n",
       "      <th>2012</th>\n",
       "      <td>51,564,138.39</td>\n",
       "    </tr>\n",
       "    <tr>\n",
       "      <th>2013</th>\n",
       "      <td>41,980,505.68</td>\n",
       "    </tr>\n",
       "    <tr>\n",
       "      <th>2014</th>\n",
       "      <td>60,411,862.62</td>\n",
       "    </tr>\n",
       "    <tr>\n",
       "      <th>2015</th>\n",
       "      <td>66,287,682.98</td>\n",
       "    </tr>\n",
       "    <tr>\n",
       "      <th>2016</th>\n",
       "      <td>121,644,306.28</td>\n",
       "    </tr>\n",
       "    <tr>\n",
       "      <th>2017</th>\n",
       "      <td>201,372,336.23</td>\n",
       "    </tr>\n",
       "    <tr>\n",
       "      <th>2018</th>\n",
       "      <td>72,829,596.81</td>\n",
       "    </tr>\n",
       "  </tbody>\n",
       "</table>\n",
       "</div>"
      ],
      "text/plain": [
       "               amount_2017\n",
       "fiscal_year               \n",
       "2006         45,238,894.90\n",
       "2007         36,167,429.87\n",
       "2008         41,711,756.74\n",
       "2009         41,989,677.43\n",
       "2010        101,773,392.12\n",
       "2011         49,055,088.56\n",
       "2012         51,564,138.39\n",
       "2013         41,980,505.68\n",
       "2014         60,411,862.62\n",
       "2015         66,287,682.98\n",
       "2016        121,644,306.28\n",
       "2017        201,372,336.23\n",
       "2018         72,829,596.81"
      ]
     },
     "execution_count": 51,
     "metadata": {},
     "output_type": "execute_result"
    }
   ],
   "source": [
    "annual_adjusted_totals"
   ]
  }
 ],
 "metadata": {
  "kernelspec": {
   "display_name": "Python 2",
   "language": "python",
   "name": "python2"
  },
  "language_info": {
   "codemirror_mode": {
    "name": "ipython",
    "version": 2
   },
   "file_extension": ".py",
   "mimetype": "text/x-python",
   "name": "python",
   "nbconvert_exporter": "python",
   "pygments_lexer": "ipython2",
   "version": "2.7.12"
  }
 },
 "nbformat": 4,
 "nbformat_minor": 2
}
